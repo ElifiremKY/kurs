{
 "cells": [
  {
   "cell_type": "code",
   "execution_count": 2,
   "id": "af0263bf",
   "metadata": {},
   "outputs": [
    {
     "name": "stdout",
     "output_type": "stream",
     "text": [
      "Minimum mesafe: 1.4142135623730951\n"
     ]
    }
   ],
   "source": [
    "import math\n",
    "\n",
    "noktalar = [(1, 2), (4, 6), (7, 8), (2, 3), (5, 5)]\n",
    "\n",
    "def oklidmesafesi(nokta1, nokta2):\n",
    "    x1, y1 = nokta1\n",
    "    x2, y2 = nokta2\n",
    "    return math.sqrt((x2 - x1)**2 + (y2 - y1)**2)\n",
    "\n",
    "mesafeler = []\n",
    "for i in range(len(noktalar)):\n",
    "    for j in range(i + 1, len(noktalar)):\n",
    "        mesafe = oklidmesafesi(noktalar[i], noktalar[j])\n",
    "        mesafeler.append(mesafe)\n",
    "\n",
    "if mesafeler:  \n",
    "    min_mesafe = min(mesafeler)\n",
    "    print(f\"Minimum mesafe: {min_mesafe}\")\n",
    "else:\n",
    "    print(\"Mesafe hesaplanacak nokta çifti bulunamadı.\")\n"
   ]
  },
  {
   "cell_type": "code",
   "execution_count": null,
   "id": "8a4cdfa1",
   "metadata": {},
   "outputs": [],
   "source": []
  }
 ],
 "metadata": {
  "kernelspec": {
   "display_name": "Python 3 (ipykernel)",
   "language": "python",
   "name": "python3"
  },
  "language_info": {
   "codemirror_mode": {
    "name": "ipython",
    "version": 3
   },
   "file_extension": ".py",
   "mimetype": "text/x-python",
   "name": "python",
   "nbconvert_exporter": "python",
   "pygments_lexer": "ipython3",
   "version": "3.9.13"
  }
 },
 "nbformat": 4,
 "nbformat_minor": 5
}
